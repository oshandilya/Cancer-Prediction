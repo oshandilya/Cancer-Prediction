{
 "metadata": {
  "language_info": {
   "codemirror_mode": {
    "name": "ipython",
    "version": 3
   },
   "file_extension": ".py",
   "mimetype": "text/x-python",
   "name": "python",
   "nbconvert_exporter": "python",
   "pygments_lexer": "ipython3",
   "version": "3.7.3"
  },
  "orig_nbformat": 2,
  "kernelspec": {
   "name": "python3",
   "display_name": "Python 3.7.3 64-bit ('base': conda)"
  },
  "interpreter": {
   "hash": "a875d3093d264781885990dbf6908310ed305dae1b9f8e0e1f68ccb735e543d4"
  }
 },
 "nbformat": 4,
 "nbformat_minor": 2,
 "cells": [
  {
   "source": [
    "## Predict whether a mammogram mass is benign or malignant\n",
    "\n",
    "We'll be using the \"mammographic masses\" public dataset from the UCI repository (source: https://archive.ics.uci.edu/ml/datasets/Mammographic+Mass)\n",
    "\n",
    "This data contains 961 instances of masses detected in mammograms, and contains the following attributes:\n",
    "\n",
    "\n",
    "   1. BI-RADS assessment: 1 to 5 (ordinal)  \n",
    "   2. Age: patient's age in years (integer)\n",
    "   3. Shape: mass shape: round=1 oval=2 lobular=3 irregular=4 (nominal)\n",
    "   4. Margin: mass margin: circumscribed=1 microlobulated=2 obscured=3 ill-defined=4 spiculated=5 (nominal)\n",
    "   5. Density: mass density high=1 iso=2 low=3 fat-containing=4 (ordinal)\n",
    "   6. Severity: benign=0 or malignant=1 (binominal)\n",
    "   \n",
    "BI-RADS is an assesment of how confident the severity classification is; it is not a \"predictive\" attribute and so we will discard it. The age, shape, margin, and density attributes are the features that we will build our model with, and \"severity\" is the classification we will attempt to predict based on those attributes.\n",
    "\n",
    "Although \"shape\" and \"margin\" are nominal data types, which sklearn typically doesn't deal with well, they are close enough to ordinal that we shouldn't just discard them. The \"shape\" for example is ordered increasingly from round to irregular.\n",
    "\n",
    "A lot of unnecessary anguish and surgery arises from false positives arising from mammogram results. If we can build a better way to interpret them through supervised machine learning, it could improve a lot of lives.\n",
    "\n",
    "***"
   ],
   "cell_type": "markdown",
   "metadata": {}
  },
  {
   "cell_type": "code",
   "execution_count": 27,
   "metadata": {},
   "outputs": [],
   "source": [
    "#Ignore warnings\n",
    "import warnings\n",
    "warnings.filterwarnings(\"ignore\")"
   ]
  },
  {
   "cell_type": "code",
   "execution_count": 2,
   "metadata": {},
   "outputs": [
    {
     "output_type": "execute_result",
     "data": {
      "text/plain": [
       "   5  67  3 5.1 3.1  1\n",
       "0  4  43  1   1   ?  1\n",
       "1  5  58  4   5   3  1\n",
       "2  4  28  1   1   3  0\n",
       "3  5  74  1   5   ?  1\n",
       "4  4  65  1   ?   3  0"
      ],
      "text/html": "<div>\n<style scoped>\n    .dataframe tbody tr th:only-of-type {\n        vertical-align: middle;\n    }\n\n    .dataframe tbody tr th {\n        vertical-align: top;\n    }\n\n    .dataframe thead th {\n        text-align: right;\n    }\n</style>\n<table border=\"1\" class=\"dataframe\">\n  <thead>\n    <tr style=\"text-align: right;\">\n      <th></th>\n      <th>5</th>\n      <th>67</th>\n      <th>3</th>\n      <th>5.1</th>\n      <th>3.1</th>\n      <th>1</th>\n    </tr>\n  </thead>\n  <tbody>\n    <tr>\n      <th>0</th>\n      <td>4</td>\n      <td>43</td>\n      <td>1</td>\n      <td>1</td>\n      <td>?</td>\n      <td>1</td>\n    </tr>\n    <tr>\n      <th>1</th>\n      <td>5</td>\n      <td>58</td>\n      <td>4</td>\n      <td>5</td>\n      <td>3</td>\n      <td>1</td>\n    </tr>\n    <tr>\n      <th>2</th>\n      <td>4</td>\n      <td>28</td>\n      <td>1</td>\n      <td>1</td>\n      <td>3</td>\n      <td>0</td>\n    </tr>\n    <tr>\n      <th>3</th>\n      <td>5</td>\n      <td>74</td>\n      <td>1</td>\n      <td>5</td>\n      <td>?</td>\n      <td>1</td>\n    </tr>\n    <tr>\n      <th>4</th>\n      <td>4</td>\n      <td>65</td>\n      <td>1</td>\n      <td>?</td>\n      <td>3</td>\n      <td>0</td>\n    </tr>\n  </tbody>\n</table>\n</div>"
     },
     "metadata": {},
     "execution_count": 2
    }
   ],
   "source": [
    "#Importing the dataset\n",
    "\n",
    "import pandas as pd\n",
    "\n",
    "pd.set_option('display.max_rows',10)\n",
    "\n",
    "dataset = pd.read_csv('mammographic_masses.data.txt')\n",
    "dataset.head()"
   ]
  },
  {
   "cell_type": "code",
   "execution_count": 3,
   "metadata": {},
   "outputs": [
    {
     "output_type": "execute_result",
     "data": {
      "text/plain": [
       "   BI-RADS   Age  Shape  Margin  Density  Severity\n",
       "0      5.0  67.0    3.0     5.0      3.0         1\n",
       "1      4.0  43.0    1.0     1.0      NaN         1\n",
       "2      5.0  58.0    4.0     5.0      3.0         1\n",
       "3      4.0  28.0    1.0     1.0      3.0         0\n",
       "4      5.0  74.0    1.0     5.0      NaN         1"
      ],
      "text/html": "<div>\n<style scoped>\n    .dataframe tbody tr th:only-of-type {\n        vertical-align: middle;\n    }\n\n    .dataframe tbody tr th {\n        vertical-align: top;\n    }\n\n    .dataframe thead th {\n        text-align: right;\n    }\n</style>\n<table border=\"1\" class=\"dataframe\">\n  <thead>\n    <tr style=\"text-align: right;\">\n      <th></th>\n      <th>BI-RADS</th>\n      <th>Age</th>\n      <th>Shape</th>\n      <th>Margin</th>\n      <th>Density</th>\n      <th>Severity</th>\n    </tr>\n  </thead>\n  <tbody>\n    <tr>\n      <th>0</th>\n      <td>5.0</td>\n      <td>67.0</td>\n      <td>3.0</td>\n      <td>5.0</td>\n      <td>3.0</td>\n      <td>1</td>\n    </tr>\n    <tr>\n      <th>1</th>\n      <td>4.0</td>\n      <td>43.0</td>\n      <td>1.0</td>\n      <td>1.0</td>\n      <td>NaN</td>\n      <td>1</td>\n    </tr>\n    <tr>\n      <th>2</th>\n      <td>5.0</td>\n      <td>58.0</td>\n      <td>4.0</td>\n      <td>5.0</td>\n      <td>3.0</td>\n      <td>1</td>\n    </tr>\n    <tr>\n      <th>3</th>\n      <td>4.0</td>\n      <td>28.0</td>\n      <td>1.0</td>\n      <td>1.0</td>\n      <td>3.0</td>\n      <td>0</td>\n    </tr>\n    <tr>\n      <th>4</th>\n      <td>5.0</td>\n      <td>74.0</td>\n      <td>1.0</td>\n      <td>5.0</td>\n      <td>NaN</td>\n      <td>1</td>\n    </tr>\n  </tbody>\n</table>\n</div>"
     },
     "metadata": {},
     "execution_count": 3
    }
   ],
   "source": [
    "#Replacing ? in the dataset by NaN  for the model to read it as a missing value\n",
    "\n",
    "dataset = pd.read_csv('mammographic_masses.data.txt', na_values=['?'], names = ['BI-RADS', 'Age', 'Shape', 'Margin', 'Density', 'Severity'])\n",
    "dataset.head()"
   ]
  },
  {
   "cell_type": "code",
   "execution_count": 4,
   "metadata": {},
   "outputs": [
    {
     "output_type": "execute_result",
     "data": {
      "text/plain": [
       "     BI-RADS   Age  Shape  Margin  Density  Severity\n",
       "956      4.0  47.0    2.0     1.0      3.0         0\n",
       "957      4.0  56.0    4.0     5.0      3.0         1\n",
       "958      4.0  64.0    4.0     5.0      3.0         0\n",
       "959      5.0  66.0    4.0     5.0      3.0         1\n",
       "960      4.0  62.0    3.0     3.0      3.0         0"
      ],
      "text/html": "<div>\n<style scoped>\n    .dataframe tbody tr th:only-of-type {\n        vertical-align: middle;\n    }\n\n    .dataframe tbody tr th {\n        vertical-align: top;\n    }\n\n    .dataframe thead th {\n        text-align: right;\n    }\n</style>\n<table border=\"1\" class=\"dataframe\">\n  <thead>\n    <tr style=\"text-align: right;\">\n      <th></th>\n      <th>BI-RADS</th>\n      <th>Age</th>\n      <th>Shape</th>\n      <th>Margin</th>\n      <th>Density</th>\n      <th>Severity</th>\n    </tr>\n  </thead>\n  <tbody>\n    <tr>\n      <th>956</th>\n      <td>4.0</td>\n      <td>47.0</td>\n      <td>2.0</td>\n      <td>1.0</td>\n      <td>3.0</td>\n      <td>0</td>\n    </tr>\n    <tr>\n      <th>957</th>\n      <td>4.0</td>\n      <td>56.0</td>\n      <td>4.0</td>\n      <td>5.0</td>\n      <td>3.0</td>\n      <td>1</td>\n    </tr>\n    <tr>\n      <th>958</th>\n      <td>4.0</td>\n      <td>64.0</td>\n      <td>4.0</td>\n      <td>5.0</td>\n      <td>3.0</td>\n      <td>0</td>\n    </tr>\n    <tr>\n      <th>959</th>\n      <td>5.0</td>\n      <td>66.0</td>\n      <td>4.0</td>\n      <td>5.0</td>\n      <td>3.0</td>\n      <td>1</td>\n    </tr>\n    <tr>\n      <th>960</th>\n      <td>4.0</td>\n      <td>62.0</td>\n      <td>3.0</td>\n      <td>3.0</td>\n      <td>3.0</td>\n      <td>0</td>\n    </tr>\n  </tbody>\n</table>\n</div>"
     },
     "metadata": {},
     "execution_count": 4
    }
   ],
   "source": [
    "dataset.tail()"
   ]
  },
  {
   "cell_type": "code",
   "execution_count": 5,
   "metadata": {},
   "outputs": [
    {
     "output_type": "execute_result",
     "data": {
      "text/plain": [
       "          BI-RADS         Age       Shape      Margin     Density    Severity\n",
       "count  959.000000  956.000000  930.000000  913.000000  885.000000  961.000000\n",
       "mean     4.348279   55.487448    2.721505    2.796276    2.910734    0.463059\n",
       "std      1.783031   14.480131    1.242792    1.566546    0.380444    0.498893\n",
       "min      0.000000   18.000000    1.000000    1.000000    1.000000    0.000000\n",
       "25%      4.000000   45.000000    2.000000    1.000000    3.000000    0.000000\n",
       "50%      4.000000   57.000000    3.000000    3.000000    3.000000    0.000000\n",
       "75%      5.000000   66.000000    4.000000    4.000000    3.000000    1.000000\n",
       "max     55.000000   96.000000    4.000000    5.000000    4.000000    1.000000"
      ],
      "text/html": "<div>\n<style scoped>\n    .dataframe tbody tr th:only-of-type {\n        vertical-align: middle;\n    }\n\n    .dataframe tbody tr th {\n        vertical-align: top;\n    }\n\n    .dataframe thead th {\n        text-align: right;\n    }\n</style>\n<table border=\"1\" class=\"dataframe\">\n  <thead>\n    <tr style=\"text-align: right;\">\n      <th></th>\n      <th>BI-RADS</th>\n      <th>Age</th>\n      <th>Shape</th>\n      <th>Margin</th>\n      <th>Density</th>\n      <th>Severity</th>\n    </tr>\n  </thead>\n  <tbody>\n    <tr>\n      <th>count</th>\n      <td>959.000000</td>\n      <td>956.000000</td>\n      <td>930.000000</td>\n      <td>913.000000</td>\n      <td>885.000000</td>\n      <td>961.000000</td>\n    </tr>\n    <tr>\n      <th>mean</th>\n      <td>4.348279</td>\n      <td>55.487448</td>\n      <td>2.721505</td>\n      <td>2.796276</td>\n      <td>2.910734</td>\n      <td>0.463059</td>\n    </tr>\n    <tr>\n      <th>std</th>\n      <td>1.783031</td>\n      <td>14.480131</td>\n      <td>1.242792</td>\n      <td>1.566546</td>\n      <td>0.380444</td>\n      <td>0.498893</td>\n    </tr>\n    <tr>\n      <th>min</th>\n      <td>0.000000</td>\n      <td>18.000000</td>\n      <td>1.000000</td>\n      <td>1.000000</td>\n      <td>1.000000</td>\n      <td>0.000000</td>\n    </tr>\n    <tr>\n      <th>25%</th>\n      <td>4.000000</td>\n      <td>45.000000</td>\n      <td>2.000000</td>\n      <td>1.000000</td>\n      <td>3.000000</td>\n      <td>0.000000</td>\n    </tr>\n    <tr>\n      <th>50%</th>\n      <td>4.000000</td>\n      <td>57.000000</td>\n      <td>3.000000</td>\n      <td>3.000000</td>\n      <td>3.000000</td>\n      <td>0.000000</td>\n    </tr>\n    <tr>\n      <th>75%</th>\n      <td>5.000000</td>\n      <td>66.000000</td>\n      <td>4.000000</td>\n      <td>4.000000</td>\n      <td>3.000000</td>\n      <td>1.000000</td>\n    </tr>\n    <tr>\n      <th>max</th>\n      <td>55.000000</td>\n      <td>96.000000</td>\n      <td>4.000000</td>\n      <td>5.000000</td>\n      <td>4.000000</td>\n      <td>1.000000</td>\n    </tr>\n  </tbody>\n</table>\n</div>"
     },
     "metadata": {},
     "execution_count": 5
    }
   ],
   "source": [
    "dataset.describe()"
   ]
  },
  {
   "source": [
    "***\n",
    "* Lets look into the missing data in the dataset\n",
    "***"
   ],
   "cell_type": "markdown",
   "metadata": {}
  },
  {
   "cell_type": "code",
   "execution_count": 6,
   "metadata": {},
   "outputs": [
    {
     "output_type": "execute_result",
     "data": {
      "text/plain": [
       "     BI-RADS   Age  Shape  Margin  Density  Severity\n",
       "1        4.0  43.0    1.0     1.0      NaN         1\n",
       "4        5.0  74.0    1.0     5.0      NaN         1\n",
       "5        4.0  65.0    1.0     NaN      3.0         0\n",
       "6        4.0  70.0    NaN     NaN      3.0         0\n",
       "7        5.0  42.0    1.0     NaN      3.0         0\n",
       "..       ...   ...    ...     ...      ...       ...\n",
       "778      4.0  60.0    NaN     4.0      3.0         0\n",
       "819      4.0  35.0    3.0     NaN      2.0         0\n",
       "824      6.0  40.0    NaN     3.0      4.0         1\n",
       "884      5.0   NaN    4.0     4.0      3.0         1\n",
       "923      5.0   NaN    4.0     3.0      3.0         1\n",
       "\n",
       "[130 rows x 6 columns]"
      ],
      "text/html": "<div>\n<style scoped>\n    .dataframe tbody tr th:only-of-type {\n        vertical-align: middle;\n    }\n\n    .dataframe tbody tr th {\n        vertical-align: top;\n    }\n\n    .dataframe thead th {\n        text-align: right;\n    }\n</style>\n<table border=\"1\" class=\"dataframe\">\n  <thead>\n    <tr style=\"text-align: right;\">\n      <th></th>\n      <th>BI-RADS</th>\n      <th>Age</th>\n      <th>Shape</th>\n      <th>Margin</th>\n      <th>Density</th>\n      <th>Severity</th>\n    </tr>\n  </thead>\n  <tbody>\n    <tr>\n      <th>1</th>\n      <td>4.0</td>\n      <td>43.0</td>\n      <td>1.0</td>\n      <td>1.0</td>\n      <td>NaN</td>\n      <td>1</td>\n    </tr>\n    <tr>\n      <th>4</th>\n      <td>5.0</td>\n      <td>74.0</td>\n      <td>1.0</td>\n      <td>5.0</td>\n      <td>NaN</td>\n      <td>1</td>\n    </tr>\n    <tr>\n      <th>5</th>\n      <td>4.0</td>\n      <td>65.0</td>\n      <td>1.0</td>\n      <td>NaN</td>\n      <td>3.0</td>\n      <td>0</td>\n    </tr>\n    <tr>\n      <th>6</th>\n      <td>4.0</td>\n      <td>70.0</td>\n      <td>NaN</td>\n      <td>NaN</td>\n      <td>3.0</td>\n      <td>0</td>\n    </tr>\n    <tr>\n      <th>7</th>\n      <td>5.0</td>\n      <td>42.0</td>\n      <td>1.0</td>\n      <td>NaN</td>\n      <td>3.0</td>\n      <td>0</td>\n    </tr>\n    <tr>\n      <th>...</th>\n      <td>...</td>\n      <td>...</td>\n      <td>...</td>\n      <td>...</td>\n      <td>...</td>\n      <td>...</td>\n    </tr>\n    <tr>\n      <th>778</th>\n      <td>4.0</td>\n      <td>60.0</td>\n      <td>NaN</td>\n      <td>4.0</td>\n      <td>3.0</td>\n      <td>0</td>\n    </tr>\n    <tr>\n      <th>819</th>\n      <td>4.0</td>\n      <td>35.0</td>\n      <td>3.0</td>\n      <td>NaN</td>\n      <td>2.0</td>\n      <td>0</td>\n    </tr>\n    <tr>\n      <th>824</th>\n      <td>6.0</td>\n      <td>40.0</td>\n      <td>NaN</td>\n      <td>3.0</td>\n      <td>4.0</td>\n      <td>1</td>\n    </tr>\n    <tr>\n      <th>884</th>\n      <td>5.0</td>\n      <td>NaN</td>\n      <td>4.0</td>\n      <td>4.0</td>\n      <td>3.0</td>\n      <td>1</td>\n    </tr>\n    <tr>\n      <th>923</th>\n      <td>5.0</td>\n      <td>NaN</td>\n      <td>4.0</td>\n      <td>3.0</td>\n      <td>3.0</td>\n      <td>1</td>\n    </tr>\n  </tbody>\n</table>\n<p>130 rows × 6 columns</p>\n</div>"
     },
     "metadata": {},
     "execution_count": 6
    }
   ],
   "source": [
    "dataset.loc[(dataset['Age'].isnull()) | (dataset['Shape'].isnull()) | (dataset['Margin'].isnull()) | (dataset['Density'].isnull())]"
   ]
  },
  {
   "source": [
    "***\n",
    "* Filling the missing value in the Age series with its mode.\n",
    "***"
   ],
   "cell_type": "markdown",
   "metadata": {}
  },
  {
   "cell_type": "code",
   "execution_count": 7,
   "metadata": {},
   "outputs": [
    {
     "output_type": "stream",
     "name": "stdout",
     "text": [
      "\u001b[33mNumber of missing value in Age Series : 0\u001b[0m\n"
     ]
    },
    {
     "output_type": "execute_result",
     "data": {
      "text/plain": [
       "0      67.0\n",
       "1      43.0\n",
       "2      58.0\n",
       "3      28.0\n",
       "4      74.0\n",
       "       ... \n",
       "956    47.0\n",
       "957    56.0\n",
       "958    64.0\n",
       "959    66.0\n",
       "960    62.0\n",
       "Name: Age, Length: 961, dtype: float64"
      ]
     },
     "metadata": {},
     "execution_count": 7
    }
   ],
   "source": [
    "from termcolor import cprint\n",
    "\n",
    "dataset[\"Age\"] = dataset[\"Age\"].transform(lambda x: x.fillna(x.mode()[0]))\n",
    "cprint(f'Number of missing value in Age Series : {dataset[\"Age\"].isnull().sum()}','yellow')\n",
    "dataset['Age']"
   ]
  },
  {
   "source": [
    "***\n",
    "* As all the other missing values are randomly distributed, we will drop those rows.\n",
    "***"
   ],
   "cell_type": "markdown",
   "metadata": {}
  },
  {
   "cell_type": "code",
   "execution_count": 8,
   "metadata": {},
   "outputs": [
    {
     "output_type": "execute_result",
     "data": {
      "text/plain": [
       "          BI-RADS         Age       Shape      Margin     Density    Severity\n",
       "count  835.000000  835.000000  835.000000  835.000000  835.000000  835.000000\n",
       "mean     4.396407   55.801198    2.788024    2.819162    2.916168    0.488623\n",
       "std      1.883218   14.629845    1.241508    1.565398    0.349943    0.500170\n",
       "min      0.000000   18.000000    1.000000    1.000000    1.000000    0.000000\n",
       "25%      4.000000   46.000000    2.000000    1.000000    3.000000    0.000000\n",
       "50%      4.000000   57.000000    3.000000    3.000000    3.000000    0.000000\n",
       "75%      5.000000   66.000000    4.000000    4.000000    3.000000    1.000000\n",
       "max     55.000000   96.000000    4.000000    5.000000    4.000000    1.000000"
      ],
      "text/html": "<div>\n<style scoped>\n    .dataframe tbody tr th:only-of-type {\n        vertical-align: middle;\n    }\n\n    .dataframe tbody tr th {\n        vertical-align: top;\n    }\n\n    .dataframe thead th {\n        text-align: right;\n    }\n</style>\n<table border=\"1\" class=\"dataframe\">\n  <thead>\n    <tr style=\"text-align: right;\">\n      <th></th>\n      <th>BI-RADS</th>\n      <th>Age</th>\n      <th>Shape</th>\n      <th>Margin</th>\n      <th>Density</th>\n      <th>Severity</th>\n    </tr>\n  </thead>\n  <tbody>\n    <tr>\n      <th>count</th>\n      <td>835.000000</td>\n      <td>835.000000</td>\n      <td>835.000000</td>\n      <td>835.000000</td>\n      <td>835.000000</td>\n      <td>835.000000</td>\n    </tr>\n    <tr>\n      <th>mean</th>\n      <td>4.396407</td>\n      <td>55.801198</td>\n      <td>2.788024</td>\n      <td>2.819162</td>\n      <td>2.916168</td>\n      <td>0.488623</td>\n    </tr>\n    <tr>\n      <th>std</th>\n      <td>1.883218</td>\n      <td>14.629845</td>\n      <td>1.241508</td>\n      <td>1.565398</td>\n      <td>0.349943</td>\n      <td>0.500170</td>\n    </tr>\n    <tr>\n      <th>min</th>\n      <td>0.000000</td>\n      <td>18.000000</td>\n      <td>1.000000</td>\n      <td>1.000000</td>\n      <td>1.000000</td>\n      <td>0.000000</td>\n    </tr>\n    <tr>\n      <th>25%</th>\n      <td>4.000000</td>\n      <td>46.000000</td>\n      <td>2.000000</td>\n      <td>1.000000</td>\n      <td>3.000000</td>\n      <td>0.000000</td>\n    </tr>\n    <tr>\n      <th>50%</th>\n      <td>4.000000</td>\n      <td>57.000000</td>\n      <td>3.000000</td>\n      <td>3.000000</td>\n      <td>3.000000</td>\n      <td>0.000000</td>\n    </tr>\n    <tr>\n      <th>75%</th>\n      <td>5.000000</td>\n      <td>66.000000</td>\n      <td>4.000000</td>\n      <td>4.000000</td>\n      <td>3.000000</td>\n      <td>1.000000</td>\n    </tr>\n    <tr>\n      <th>max</th>\n      <td>55.000000</td>\n      <td>96.000000</td>\n      <td>4.000000</td>\n      <td>5.000000</td>\n      <td>4.000000</td>\n      <td>1.000000</td>\n    </tr>\n  </tbody>\n</table>\n</div>"
     },
     "metadata": {},
     "execution_count": 8
    }
   ],
   "source": [
    "dataset.dropna(inplace=True)\n",
    "dataset.describe()"
   ]
  },
  {
   "source": [
    "***\n",
    "* Now splitting our dataset into dependent and independent variables.\n",
    "***"
   ],
   "cell_type": "markdown",
   "metadata": {}
  },
  {
   "cell_type": "code",
   "execution_count": 9,
   "metadata": {},
   "outputs": [],
   "source": [
    "X = dataset.iloc[:,[1,2,3,4]].values\n",
    "y = dataset.iloc[:,5].values"
   ]
  },
  {
   "source": [
    "***\n",
    "* Feature Scaling\n",
    "***"
   ],
   "cell_type": "markdown",
   "metadata": {}
  },
  {
   "cell_type": "code",
   "execution_count": 10,
   "metadata": {},
   "outputs": [],
   "source": [
    "from sklearn.preprocessing import StandardScaler\n",
    "\n",
    "sc = StandardScaler()\n",
    "X = sc.fit_transform(X)"
   ]
  },
  {
   "cell_type": "code",
   "execution_count": 11,
   "metadata": {},
   "outputs": [],
   "source": [
    "#Splitting the dataset into train and test sets.\n",
    "import numpy as np\n",
    "from sklearn.model_selection import train_test_split\n",
    "\n",
    "X_train , X_test , y_train, y_test = train_test_split(X, y, test_size= 0.2, random_state = 0)"
   ]
  },
  {
   "cell_type": "code",
   "execution_count": 12,
   "metadata": {},
   "outputs": [],
   "source": [
    "#Importing necessary libraries\n",
    "from sklearn.model_selection import cross_val_score, GridSearchCV\n",
    "from sklearn.tree import DecisionTreeClassifier\n",
    "from sklearn.ensemble import RandomForestClassifier\n",
    "from sklearn.linear_model import LogisticRegression\n",
    "from sklearn.svm import SVC\n",
    "from sklearn.neighbors import KNeighborsClassifier\n",
    "from xgboost import XGBClassifier\n",
    "from sklearn.naive_bayes import GaussianNB"
   ]
  },
  {
   "source": [
    "***\n",
    "* Testing out different algorithms to predict the dataset and comparing their scores.\n",
    "***"
   ],
   "cell_type": "markdown",
   "metadata": {}
  },
  {
   "cell_type": "code",
   "execution_count": 13,
   "metadata": {},
   "outputs": [
    {
     "output_type": "stream",
     "name": "stdout",
     "text": [
      "\u001b[33mThe k-fold average score of Decision Tree Classifier is : 0.7637461090270572\u001b[0m\n"
     ]
    }
   ],
   "source": [
    "# Decision Tree Classifier\n",
    "\n",
    "classifier = DecisionTreeClassifier()\n",
    "classifier.fit(X_train,y_train)\n",
    "\n",
    "scr_dec = cross_val_score(classifier,X_train,y_train,cv = 10)\n",
    "cprint(f\"The k-fold average score of Decision Tree Classifier is : {scr_dec.mean()}\",'yellow')"
   ]
  },
  {
   "cell_type": "code",
   "execution_count": 14,
   "metadata": {},
   "outputs": [
    {
     "output_type": "stream",
     "name": "stdout",
     "text": [
      "\u001b[33mThe k-fold average score of Support Vector Classifier is : 0.8040964961289807\u001b[0m\n"
     ]
    }
   ],
   "source": [
    "#Support Vector Machine\n",
    "\n",
    "classifier = SVC(C = 1,kernel='linear')\n",
    "\n",
    "scr_svc = cross_val_score(classifier,X_train,y_train,cv = 10)\n",
    "cprint(f\"The k-fold average score of Support Vector Classifier is : {scr_svc.mean()}\",'yellow')"
   ]
  },
  {
   "cell_type": "code",
   "execution_count": 15,
   "metadata": {},
   "outputs": [
    {
     "output_type": "stream",
     "name": "stderr",
     "text": [
      "C:\\Users\\oshan\\Anaconda\\lib\\site-packages\\sklearn\\model_selection\\_search.py:813: DeprecationWarning: The default of the `iid` parameter will change from True to False in version 0.22 and will be removed in 0.24. This will change numeric results when test-set sizes are unequal.\n  DeprecationWarning)\n"
     ]
    },
    {
     "output_type": "execute_result",
     "data": {
      "text/plain": [
       "{'C': 1, 'gamma': 0.1, 'kernel': 'rbf'}"
      ]
     },
     "metadata": {},
     "execution_count": 15
    }
   ],
   "source": [
    "#Using Grid Search to find the best kernel for support vector machine\n",
    "\n",
    "parameters = [{'C':[1 ,10, 100, 1000],'kernel':['linear']},{'C':[1, 10, 100, 1000],'kernel':['rbf'],'gamma':[0.1,0.3,0.5,0.7,0.9]},{'C':[1, 10, 100, 1000],'kernel':['sigmoid'],'gamma':[0.1,0.3,0.5,0.7,0.9]},{'C':[1, 10, 100, 1000],'kernel':['poly'],'degree':[2,3,4,5]}]\n",
    "grid_search = GridSearchCV(estimator=classifier,param_grid=parameters,n_jobs=-1,cv=10,scoring='accuracy')\n",
    "grid_search.fit(X_train,y_train)\n",
    "grid_search.best_params_"
   ]
  },
  {
   "cell_type": "code",
   "execution_count": 16,
   "metadata": {},
   "outputs": [
    {
     "output_type": "stream",
     "name": "stderr",
     "text": [
      "C:\\Users\\oshan\\Anaconda\\lib\\site-packages\\sklearn\\model_selection\\_search.py:813: DeprecationWarning: The default of the `iid` parameter will change from True to False in version 0.22 and will be removed in 0.24. This will change numeric results when test-set sizes are unequal.\n  DeprecationWarning)\n"
     ]
    },
    {
     "output_type": "execute_result",
     "data": {
      "text/plain": [
       "{'C': 1, 'gamma': 0.05, 'kernel': 'rbf'}"
      ]
     },
     "metadata": {},
     "execution_count": 16
    }
   ],
   "source": [
    "#Running more detailed Grid Search\n",
    "\n",
    "parameters = [{'C':[0.5,1,2],'kernel':['rbf'],'gamma':[0.05,0.1,0.15,0.2,0.25]}]\n",
    "grid_search = GridSearchCV(estimator=classifier,param_grid=parameters,n_jobs=-1,cv=10,scoring='accuracy')\n",
    "grid_search.fit(X_train,y_train)\n",
    "grid_search.best_params_"
   ]
  },
  {
   "cell_type": "code",
   "execution_count": 17,
   "metadata": {},
   "outputs": [
    {
     "output_type": "stream",
     "name": "stdout",
     "text": [
      "\u001b[33mThe k-fold average score of Improved Support Vector Classifier is : 0.8146120999281667\u001b[0m\n"
     ]
    }
   ],
   "source": [
    "#Support Vector Machine (Improved)\n",
    "\n",
    "classifier = SVC(kernel='rbf',gamma=0.05,C= 1)\n",
    "\n",
    "scr_svc = cross_val_score(classifier,X_train,y_train,cv = 10)\n",
    "cprint(f\"The k-fold average score of Improved Support Vector Classifier is : {scr_svc.mean()}\",'yellow')"
   ]
  },
  {
   "cell_type": "code",
   "execution_count": 18,
   "metadata": {},
   "outputs": [
    {
     "output_type": "stream",
     "name": "stdout",
     "text": [
      "\u001b[33mThe k-fold average score of Random Forest Classifier is : 0.7921981004070556\u001b[0m\n"
     ]
    }
   ],
   "source": [
    "#Random Forest Classifier\n",
    "\n",
    "classifier = RandomForestClassifier(n_estimators=300)\n",
    "\n",
    "scr_ran = cross_val_score(classifier,X_train,y_train,cv = 10)\n",
    "cprint(f\"The k-fold average score of Random Forest Classifier is : {scr_ran.mean()}\",'yellow')"
   ]
  },
  {
   "cell_type": "code",
   "execution_count": 19,
   "metadata": {},
   "outputs": [
    {
     "output_type": "stream",
     "name": "stdout",
     "text": [
      "\u001b[33mThe k-fold average score of K-Nearest Neighbor Classifier is : 0.7935130497246388\u001b[0m\n"
     ]
    }
   ],
   "source": [
    "#K-Nearest Neighbors\n",
    "\n",
    "classifier = KNeighborsClassifier(n_neighbors=5)\n",
    "\n",
    "scr_knn = cross_val_score(classifier,X_train,y_train,cv = 10)\n",
    "cprint(f\"The k-fold average score of K-Nearest Neighbor Classifier is : {scr_knn.mean()}\",'yellow')"
   ]
  },
  {
   "cell_type": "code",
   "execution_count": 20,
   "metadata": {},
   "outputs": [
    {
     "output_type": "execute_result",
     "data": {
      "text/plain": [
       "                  K-fold Average Score\n",
       "No. of Neighbors                      \n",
       "41.0                          0.810111\n",
       "42.0                          0.810044\n",
       "44.0                          0.810000\n",
       "15.0                          0.809956\n",
       "45.0                          0.808574\n",
       "...                                ...\n",
       "8.0                           0.772437\n",
       "6.0                           0.771056\n",
       "4.0                           0.771054\n",
       "1.0                           0.726095\n",
       "2.0                           0.717069\n",
       "\n",
       "[49 rows x 1 columns]"
      ],
      "text/html": "<div>\n<style scoped>\n    .dataframe tbody tr th:only-of-type {\n        vertical-align: middle;\n    }\n\n    .dataframe tbody tr th {\n        vertical-align: top;\n    }\n\n    .dataframe thead th {\n        text-align: right;\n    }\n</style>\n<table border=\"1\" class=\"dataframe\">\n  <thead>\n    <tr style=\"text-align: right;\">\n      <th></th>\n      <th>K-fold Average Score</th>\n    </tr>\n    <tr>\n      <th>No. of Neighbors</th>\n      <th></th>\n    </tr>\n  </thead>\n  <tbody>\n    <tr>\n      <th>41.0</th>\n      <td>0.810111</td>\n    </tr>\n    <tr>\n      <th>42.0</th>\n      <td>0.810044</td>\n    </tr>\n    <tr>\n      <th>44.0</th>\n      <td>0.810000</td>\n    </tr>\n    <tr>\n      <th>15.0</th>\n      <td>0.809956</td>\n    </tr>\n    <tr>\n      <th>45.0</th>\n      <td>0.808574</td>\n    </tr>\n    <tr>\n      <th>...</th>\n      <td>...</td>\n    </tr>\n    <tr>\n      <th>8.0</th>\n      <td>0.772437</td>\n    </tr>\n    <tr>\n      <th>6.0</th>\n      <td>0.771056</td>\n    </tr>\n    <tr>\n      <th>4.0</th>\n      <td>0.771054</td>\n    </tr>\n    <tr>\n      <th>1.0</th>\n      <td>0.726095</td>\n    </tr>\n    <tr>\n      <th>2.0</th>\n      <td>0.717069</td>\n    </tr>\n  </tbody>\n</table>\n<p>49 rows × 1 columns</p>\n</div>"
     },
     "metadata": {},
     "execution_count": 20
    }
   ],
   "source": [
    "#Looking at the score with different Number of neighbors.\n",
    "knn = pd.DataFrame(columns=['No. of Neighbors','K-fold Average Score'])\n",
    "for n in range(1, 50):\n",
    "    clf = KNeighborsClassifier(n_neighbors=n)\n",
    "    clf.fit(X_train,y_train)\n",
    "    cv_scores = cross_val_score(clf, X_train, y_train, cv=10)\n",
    "    knn = knn.append({'No. of Neighbors': n, 'K-fold Average Score': cv_scores.mean()},ignore_index=True)\n",
    "knn.set_index(\"No. of Neighbors\", inplace = True)\n",
    "knn.sort_values(by='K-fold Average Score', ascending=False)"
   ]
  },
  {
   "cell_type": "code",
   "execution_count": 21,
   "metadata": {},
   "outputs": [
    {
     "output_type": "stream",
     "name": "stdout",
     "text": [
      "\u001b[33mThe k-fold average score of K-Nearest Neighbor Classifier is : 0.8101112086625696\u001b[0m\n"
     ]
    }
   ],
   "source": [
    "#K-Nearest Neighbors(Improved)\n",
    "\n",
    "classifier = KNeighborsClassifier(n_neighbors=41)\n",
    "\n",
    "scr_knn = cross_val_score(classifier,X_train,y_train,cv = 10)\n",
    "cprint(f\"The k-fold average score of K-Nearest Neighbor Classifier is : {scr_knn.mean()}\",'yellow')"
   ]
  },
  {
   "cell_type": "code",
   "execution_count": 28,
   "metadata": {},
   "outputs": [
    {
     "output_type": "stream",
     "name": "stdout",
     "text": [
      "\u001b[33mThe k-fold average score of Logistic Regression is : 0.8146333838827253\u001b[0m\n"
     ]
    }
   ],
   "source": [
    "#Logistic Regression\n",
    "\n",
    "classifier = LogisticRegression()\n",
    "\n",
    "scr_log = cross_val_score(classifier,X_train,y_train,cv = 10)\n",
    "cprint(f\"The k-fold average score of Logistic Regression is : {scr_log.mean()}\",'yellow')"
   ]
  },
  {
   "cell_type": "code",
   "execution_count": 23,
   "metadata": {},
   "outputs": [
    {
     "output_type": "stream",
     "name": "stdout",
     "text": [
      "\u001b[33mThe k-fold average score of Naive Bayes Classifier is : 0.795117992923085\u001b[0m\n"
     ]
    }
   ],
   "source": [
    "#Naive Bayes Classifier\n",
    "\n",
    "classifier = GaussianNB()\n",
    "\n",
    "scr_nav = cross_val_score(classifier,X_train,y_train,cv=10)\n",
    "cprint(f\"The k-fold average score of Naive Bayes Classifier is : {scr_nav.mean()}\",'yellow')"
   ]
  },
  {
   "cell_type": "code",
   "execution_count": 24,
   "metadata": {},
   "outputs": [
    {
     "output_type": "stream",
     "name": "stdout",
     "text": [
      "\u001b[33mThe k-fold average score of XGBoost Classifier is : 0.804006704445686\u001b[0m\n"
     ]
    }
   ],
   "source": [
    "#XGBoost Classifier\n",
    "\n",
    "classifier = XGBClassifier(use_label_encoder=False,eval_metric='error',learning_rate = 0.1,max_depth = 3)\n",
    "\n",
    "scr_xgb = cross_val_score(classifier,X_train,y_train,cv=10)\n",
    "cprint(f\"The k-fold average score of XGBoost Classifier is : {scr_xgb.mean()}\",'yellow')"
   ]
  },
  {
   "cell_type": "code",
   "execution_count": 25,
   "metadata": {},
   "outputs": [
    {
     "output_type": "stream",
     "name": "stdout",
     "text": [
      "WARNING:tensorflow:5 out of the last 13 calls to <function Model.make_test_function.<locals>.test_function at 0x000001BA999370D0> triggered tf.function retracing. Tracing is expensive and the excessive number of tracings could be due to (1) creating @tf.function repeatedly in a loop, (2) passing tensors with different shapes, (3) passing Python objects instead of tensors. For (1), please define your @tf.function outside of the loop. For (2), @tf.function has experimental_relax_shapes=True option that relaxes argument shapes that can avoid unnecessary retracing. For (3), please refer to https://www.tensorflow.org/guide/function#controlling_retracing and https://www.tensorflow.org/api_docs/python/tf/function for  more details.\n",
      "WARNING:tensorflow:5 out of the last 13 calls to <function Model.make_test_function.<locals>.test_function at 0x000001BA96231B70> triggered tf.function retracing. Tracing is expensive and the excessive number of tracings could be due to (1) creating @tf.function repeatedly in a loop, (2) passing tensors with different shapes, (3) passing Python objects instead of tensors. For (1), please define your @tf.function outside of the loop. For (2), @tf.function has experimental_relax_shapes=True option that relaxes argument shapes that can avoid unnecessary retracing. For (3), please refer to https://www.tensorflow.org/guide/function#controlling_retracing and https://www.tensorflow.org/api_docs/python/tf/function for  more details.\n",
      "\u001b[33mThe k-fold average score of Artificial Neural Network is : 0.8068747222423553\u001b[0m\n"
     ]
    }
   ],
   "source": [
    "#Artificial Neural Network\n",
    "from tensorflow.keras.models import Sequential\n",
    "from tensorflow.keras.layers import Dense\n",
    "\n",
    "def create_model():\n",
    "    model = Sequential()\n",
    "    #4 feature inputs going into an 6-unit layer (more does not seem to help - in fact you can go down to 4)\n",
    "    model.add(Dense(6, input_dim=4, kernel_initializer='normal', activation='relu'))\n",
    "    # Output layer with a binary classification (benign or malignant)\n",
    "    model.add(Dense(1, kernel_initializer='normal', activation='sigmoid'))\n",
    "    model.compile(loss='binary_crossentropy', optimizer='adam', metrics=['accuracy'])\n",
    "    return model\n",
    "\n",
    "from tensorflow.keras.wrappers.scikit_learn import KerasClassifier\n",
    "\n",
    "# Wrap our Keras model in an estimator compatible with scikit_learn\n",
    "classifier = KerasClassifier(build_fn=create_model, epochs=100, verbose=0)\n",
    "\n",
    "scr_ann = cross_val_score(classifier, X_train, y_train, cv=10)\n",
    "cprint(f\"The k-fold average score of Artificial Neural Network is : {scr_ann.mean()}\",'yellow')"
   ]
  },
  {
   "source": [
    "***\n",
    "* As we can see Logistic Regression has the best model score of **81.463%**.\n",
    "***"
   ],
   "cell_type": "markdown",
   "metadata": {}
  }
 ]
}